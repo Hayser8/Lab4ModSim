{
 "cells": [
  {
   "cell_type": "markdown",
   "id": "19256441",
   "metadata": {},
   "source": [
    "# Ejercicio 3 — Respuestas\n",
    "\n",
    "## 1) Ciudad con tiempo continuo y rasgos (20% adultos mayores; 30% trabajadores esenciales)\n",
    "\n",
    "### 1.i ¿Cómo interactúan tiempo continuo y rasgos para amplificar brotes en residencias de ancianos?\n",
    "- **Puentes de contagio:** los trabajadores esenciales actúan como vectores entre comunidad y residencias, generando introducciones frecuentes del virus.  \n",
    "- **Alta vulnerabilidad:** los adultos mayores presentan mayor riesgo y contagios más prolongados, lo que aumenta la propagación dentro de la residencia.  \n",
    "- **Ráfagas de contacto:** en un modelo de tiempo continuo, eventos como cambios de turno concentran interacciones en ventanas cortas, favoreciendo superpropagación.  \n",
    "- **Sincronización de personal:** múltiples contactos en intervalos de minutos–horas crean clústeres de casos que rápidamente se amplifican.  \n",
    "\n",
    "### 1.ii ¿El tiempo discreto podría ocultar esta dinámica? ¿Por qué?\n",
    "- **Promedia eventos rápidos:** la agregación diaria o semanal suaviza ráfagas y oculta picos súbitos.  \n",
    "- **Reordena cadenas de contagio:** al discretizar, se pierde la secuencia exacta de transmisión y se distorsionan intervalos seriales.  \n",
    "- **Subestima clústeres cortos:** los intervalos de minutos–horas se cuantizan en pasos largos, ocultando la sobredispersión real.  \n",
    "- **Pierde sensibilidad temporal:** diferencias críticas de horas en detección o aislamiento se ven como iguales en pasos discretos.  \n",
    "\n",
    "---\n",
    "\n",
    "## 2) Curvas simuladas con picos en barrios de bajos ingresos\n",
    "\n",
    "### 2.a Objetivos de calibración\n",
    "**i) Tiempo de eventos (intervalos de infección):**  \n",
    "- Distribución de intervalos seriales (media, varianza, colas).  \n",
    "- Tiempo hasta pico tras introducción y duración de los clústeres.  \n",
    "\n",
    "**ii) Resultados dependientes de rasgos (tasas por ingresos):**  \n",
    "- Tasas de incidencia y hospitalización por nivel de ingreso.  \n",
    "- Razones de riesgo entre barrios de bajos y altos ingresos, ajustadas por movilidad y acceso a pruebas.  \n",
    "\n",
    "### 2.b ¿Cómo distinguir artefactos del modelo vs desigualdades reales?\n",
    "- **Comparar con datos externos:** validar contra seroprevalencia, hospitalizaciones y encuestas de movilidad.  \n",
    "- **Chequeos predictivos:** comprobar que el modelo reproduce no solo promedios, sino también picos y sobredispersión.  \n",
    "- **Análisis de sensibilidad:** variar supuestos del modelo (intervalos de tiempo, contacto, retrasos en testeo) para ver si las desigualdades persisten.  \n",
    "- **Ajustar sesgos de medición:** considerar diferencias en subreporte y acceso a pruebas; si los picos desaparecen al ajustar, podrían ser artefactos.  \n",
    "- **Contrastar modelos alternativos:** continuo vs discreto o redes homogéneas vs heterogéneas; desigualdades robustas a especificaciones sugieren que son reales.  \n",
    "- **Escenarios contrafactuales:** simular igualdad en acceso a pruebas/aislamiento; si la brecha se reduce, refleja determinantes sociales más que sesgo del modelo.  \n",
    "- **Validación espacial/temporal:** verificar si los patrones se repiten en distintos barrios y momentos, evitando conclusiones basadas en una sola serie.  "
   ]
  }
 ],
 "metadata": {
  "language_info": {
   "name": "python"
  }
 },
 "nbformat": 4,
 "nbformat_minor": 5
}
